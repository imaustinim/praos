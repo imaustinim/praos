{
 "cells": [
  {
   "cell_type": "markdown",
   "metadata": {},
   "source": [
    "#### 9.12.2018: UPDATE ON SIGNAL SCALING:\n",
    "After playing with different preprocessing/scaling/normalising routines it seems that one simple solution based on std normalisation is quite robust to different levels of price or volatility regimes and requires no manual tuning (contrary to manual scaling setup described here).\n",
    "\n",
    "\n",
    "*See implementation example code here:* https://github.com/Kismuz/btgym/blob/master/btgym/research/model_based/strategy.py#L189"
   ]
  },
  {
   "cell_type": "code",
   "execution_count": 1,
   "metadata": {},
   "outputs": [
    {
     "name": "stderr",
     "output_type": "stream",
     "text": [
      "/Users/muzikin/anaconda/envs/tensorforce/lib/python3.6/site-packages/h5py/__init__.py:36: FutureWarning: Conversion of the second argument of issubdtype from `float` to `np.floating` is deprecated. In future, it will be treated as `np.float64 == np.dtype(float).type`.\n",
      "  from ._conv import register_converters as _register_converters\n"
     ]
    }
   ],
   "source": [
    "import numpy as np\n",
    "\n",
    "from btgym import BTgymEnv\n",
    "from gym import spaces\n",
    "import backtrader as bt\n",
    "from btgym.research import DevStrat_4_11, DevStrat_4_12\n",
    "\n",
    "%matplotlib inline\n",
    "import matplotlib.pyplot as plt\n",
    "plt.style.use('seaborn-white')"
   ]
  },
  {
   "cell_type": "code",
   "execution_count": 2,
   "metadata": {
    "collapsed": true
   },
   "outputs": [],
   "source": [
    "class SignalProvider():\n",
    "    \n",
    "    def __init__(self, env):\n",
    "        self.env = env\n",
    "        self.done = True\n",
    "    \n",
    "    def get_batch(self, batch_size):\n",
    "        batch_ext = []\n",
    "        batch_int = []\n",
    "        batch_r = []\n",
    "        while len(batch_r) < batch_size:\n",
    "            if not self.done:\n",
    "                o, r, self.done, i = env.step(env.action_space.sample())\n",
    "            else:\n",
    "                o = env.reset()\n",
    "                r = 0\n",
    "                self.done = False\n",
    "            batch_ext.append(o['external'])\n",
    "            batch_int.append(o['internal'])\n",
    "            batch_r.append(r)\n",
    "        return batch_ext, batch_int, batch_r\n",
    "    \n",
    "    def close(self):\n",
    "        self.env.close()\n",
    "        self.done = True"
   ]
  },
  {
   "cell_type": "code",
   "execution_count": null,
   "metadata": {},
   "outputs": [
    {
     "name": "stderr",
     "output_type": "stream",
     "text": [
      "/Users/muzikin/anaconda/envs/tensorforce/lib/python3.6/site-packages/matplotlib/__init__.py:1405: UserWarning: \n",
      "This call to matplotlib.use() has no effect because the backend has already\n",
      "been chosen; matplotlib.use() must be called *before* pylab, matplotlib.pyplot,\n",
      "or matplotlib.backends is imported for the first time.\n",
      "\n",
      "  warnings.warn(_use_error_msg)\n"
     ]
    }
   ],
   "source": [
    "# Our Scale-state-before-tanh parameter of interest:\n",
    "# either a scalar or vector of scaling wieghts, size equal to obs. space num channels:\n",
    "# here, 6 channels for DevStrat_4_12; 5 for DevStrat_4_11\n",
    "\n",
    "# Try both to ensure weighted scaling gives much evenly distributed values across channels\n",
    "# Todo: here weights are linearly decayed. Can do better?\n",
    "\n",
    "state_ext_scale = np.linspace(3e3, 1e3, num=6)\n",
    "#state_ext_scale = 3e3\n",
    "\n",
    "# additional params exist but not used with this example:\n",
    "state_int_scale = 1.0\n",
    "reward_scale = 10.0\n",
    "\n",
    "engine = bt.Cerebro()\n",
    "engine.addstrategy(\n",
    "    DevStrat_4_12,\n",
    "    drawdown_call=10, # max % to loose, in percent of initial cash\n",
    "    target_call=10,  # max % to win, same\n",
    "    skip_frame=10,\n",
    "    gamma=0.99,\n",
    "    reward_scale=reward_scale,\n",
    "    state_ext_scale=state_ext_scale,\n",
    "    #state_int_scale=state_int_scale,\n",
    ")\n",
    "env = BTgymEnv(\n",
    "    filename='../examples/data/DAT_ASCII_EURUSD_M1_2016.csv',\n",
    "    #filename='../examples/data/DAT_ASCII_EURUSD_M1_201703_1_10.csv',  # ten days\n",
    "    #filename='../examples/data/test_bent_sine_1min_period1500_300_delta0002.csv',  # increasing sine freq\n",
    "    #filename='../examples/data/test_sine_1min_period256_delta0002.csv',  # simple sine \n",
    "    #state_shape=dict(raw_state=spaces.Box(low=0,high=1,shape=(30,4))),\n",
    "    engine=engine,\n",
    "    skip_frame=10,\n",
    "    port=5050,\n",
    "    data_port=5049,\n",
    "    verbose=0\n",
    ") \n",
    "signal_provider = SignalProvider(env)"
   ]
  },
  {
   "cell_type": "code",
   "execution_count": null,
   "metadata": {
    "collapsed": true,
    "scrolled": false
   },
   "outputs": [],
   "source": [
    "# Make it  256 -:- 1024 (takes a while):\n",
    "batch_size = 256\n",
    "\n",
    "batch_ext, _, _ = signal_provider.get_batch(batch_size)\n",
    "signal_provider.close()\n",
    "\n",
    "\n",
    "# Distribution of values per channel:\n",
    "distr_ext = np.asarray(batch_ext)\n",
    "num_channels = distr_ext.shape[-1]\n",
    "distr_ext = np.reshape(distr_ext[...,0,:], [-1, num_channels])\n",
    "\n",
    "\n",
    "for i in range(num_channels):\n",
    "    plt.figure(num=i, figsize=(10, 5))\n",
    "    plt.title('External state channel: {}, points: {}'.format(i, distr_ext.shape[0]))\n",
    "    plt.grid(True)\n",
    "    fig = plt.hist(distr_ext[:,i], histtype='stepfilled', bins=500)"
   ]
  },
  {
   "cell_type": "code",
   "execution_count": 5,
   "metadata": {
    "collapsed": true
   },
   "outputs": [],
   "source": [
    "signal_provider.close()\n"
   ]
  },
  {
   "cell_type": "markdown",
   "metadata": {},
   "source": [
    "##### Properly scaled:\n",
    "![Normal](./img/state_value_distr_ok.png)\n",
    "\n",
    "\n",
    "##### Overscaled:\n",
    "![Over](./img/state_value_distr_over.png)\n",
    "\n",
    "\n",
    "##### Underscaled:\n",
    "![Under](./img/state_value_distr_under2.png)"
   ]
  },
  {
   "cell_type": "code",
   "execution_count": null,
   "metadata": {
    "collapsed": true
   },
   "outputs": [],
   "source": []
  }
 ],
 "metadata": {
  "kernelspec": {
   "display_name": "Python 3",
   "language": "python",
   "name": "python3"
  },
  "language_info": {
   "codemirror_mode": {
    "name": "ipython",
    "version": 3
   },
   "file_extension": ".py",
   "mimetype": "text/x-python",
   "name": "python",
   "nbconvert_exporter": "python",
   "pygments_lexer": "ipython3",
   "version": "3.6.0"
  }
 },
 "nbformat": 4,
 "nbformat_minor": 2
}
