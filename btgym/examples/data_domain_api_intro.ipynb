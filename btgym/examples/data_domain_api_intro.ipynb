{
 "cells": [
  {
   "cell_type": "code",
   "execution_count": 1,
   "metadata": {
    "collapsed": true
   },
   "outputs": [],
   "source": [
    "import numpy as np\n",
    "import datetime\n",
    "\n",
    "from btgym import BTgymEnv, BTgymDataset\n",
    "from btgym import BTgymRandomDataDomain, BTgymSequentialDataDomain\n",
    "from btgym import DataSampleConfig, EnvResetConfig\n",
    "\n",
    "from logbook import WARNING, INFO, DEBUG"
   ]
  },
  {
   "cell_type": "markdown",
   "metadata": {},
   "source": [
    "### Motivation\n",
    "\n",
    "- BTGym data is basically discrete timeflow of equitype records. For the sake of\n",
    "defining episodic MDP over such data and setting formal problem objective it should\n",
    "be somehow structured. \n",
    "\n",
    "- From the other hand, all train data can laso be seen as big external replay memory. Giving algorithms some degree of control over data sampling parameters can be beneficial for overal performance.\n",
    "\n",
    "- The idea is to pass all desirable sample properties as kwargs to env.rest() method.\n",
    "\n",
    "- This notebook is brief introduction to API realisation of formal definitions introduced in Section 1 (Data) in     this draft: https://github.com/Kismuz/btgym/blob/master/docs/papers/btgym_formalism_draft.pdf\n",
    "\n",
    "- objects described here can be thought as nested data containers with bult-in properties like sampling and         splitting data to train and test subsets."
   ]
  },
  {
   "cell_type": "code",
   "execution_count": 2,
   "metadata": {
    "collapsed": true
   },
   "outputs": [],
   "source": [
    "# Make data domain - top-level data structure:\n",
    "domain = BTgymRandomDataDomain(\n",
    "    filename='../examples/data/DAT_ASCII_EURUSD_M1_2016.csv',\n",
    "    target_period={'days': 50, 'hours': 0, 'minutes': 0},  # use last 50 days of one year data as 'target domain'\n",
    "                                                           # so we get [360 - holidays gaps - 50] \n",
    "                                                           # days of train data (exclude holidays)\n",
    "    trial_params=dict(\n",
    "        start_weekdays={0, 1, 2, 3, 4, 5, 6}, \n",
    "        sample_duration={'days': 30, 'hours': 0, 'minutes': 0}, # let each trial be 10 days long\n",
    "        start_00=True,  # ajust trial beginning to the beginning of the day\n",
    "        time_gap={'days': 15, 'hours': 0},  # tolerance param \n",
    "        test_period={'days': 6, 'hours': 0, 'minutes': 0},  # from those 10 reserve last 2 days for trial test data\n",
    "    ),\n",
    "    episode_params=dict(\n",
    "        start_weekdays={0, 1, 2, 3, 4, 5, 6},\n",
    "        sample_duration={'days': 0, 'hours': 23, 'minutes': 55},  # make every episode duration be 23:55 \n",
    "        start_00=False, # do not ajust beginning time\n",
    "        time_gap={'days': 0, 'hours': 10},\n",
    "    ),\n",
    "    log_level=INFO, # Set to DEBUG to see more output\n",
    ")"
   ]
  },
  {
   "cell_type": "markdown",
   "metadata": {},
   "source": [
    "Here Domain instanse is defined such as:\n",
    "- Holds one yera of 1min bars data;\n",
    "- Splits data to source and target domains, target domain data gets last 29 days of year period;\n",
    "- Defines each Trial to consist of 8 days of train and following 2 days of test data;\n",
    "- Each Episode lasts maximum 23:55."
   ]
  },
  {
   "cell_type": "markdown",
   "metadata": {},
   "source": [
    "### Sampling parameters\n",
    "\n",
    "- For convinience currently implemented control options are referenced in `btgym.datafeed.base.DataSampleConfig`:\n",
    "```\n",
    "DataSampleConfig = dict(\n",
    "    get_new=True,\n",
    "    sample_type=0,\n",
    "    b_alpha=1,\n",
    "    b_beta=1\n",
    ")\n",
    "```\n",
    "...which simply mirrors base data sample() kwargs:\n",
    "\n",
    "        Args:\n",
    "            get_new (bool):                 sample new (True) or reuse (False) last made sample;\n",
    "            sample_type (int or bool):      0 (train) or 1 (test) - get sample from train or test data subsets\n",
    "                                            respectively.\n",
    "            b_alpha (float):                beta-distribution sampling alpha > 0, valid for train episodes.\n",
    "            b_beta (float):                 beta-distribution sampling beta > 0, valid for train episodes.\n",
    "\n",
    "\n",
    "\n",
    "- environment reset kwargs are referenced in `btgym.datafeed.base.EnvResetConfig`:\n",
    "```\n",
    "EnvResetConfig = dict(\n",
    "    episode_config=DataSampleConfig,\n",
    "    trial_config=DataSampleConfig,\n",
    ")\n",
    "```\n"
   ]
  },
  {
   "cell_type": "markdown",
   "metadata": {},
   "source": [
    "### Sampling cycle\n",
    "\n",
    "- Reset domain which mean load and describe data and reset counters in case of stateful classes such as BTgymSequentialDataDomain:"
   ]
  },
  {
   "cell_type": "code",
   "execution_count": 3,
   "metadata": {},
   "outputs": [
    {
     "name": "stdout",
     "output_type": "stream",
     "text": [
      "[2018-07-07 06:09:14.150795] INFO: RndDataDomain_0: Loaded 372678 records from <../examples/data/DAT_ASCII_EURUSD_M1_2016.csv>.\n"
     ]
    }
   ],
   "source": [
    "domain.reset()"
   ]
  },
  {
   "cell_type": "markdown",
   "metadata": {},
   "source": [
    "##### Sample trial from source domain:"
   ]
  },
  {
   "cell_type": "code",
   "execution_count": 5,
   "metadata": {},
   "outputs": [
    {
     "name": "stdout",
     "output_type": "stream",
     "text": [
      "[2018-07-07 06:09:25.068405] INFO: RndDataDomain_0: New sample id: <train_trial_w_0_num_1_at_2016-09-07>.\n"
     ]
    }
   ],
   "source": [
    "trial= domain.sample(\n",
    "    get_new=True,\n",
    "    sample_type=0,\n",
    "    b_alpha=1,\n",
    "    b_beta=1\n",
    ")\n",
    "\n",
    "trial.reset()"
   ]
  },
  {
   "cell_type": "markdown",
   "metadata": {},
   "source": [
    "- Here new Trial object from `Source`(or train) domaini have been requested as uniform sample from entire source data interval\n",
    "\n",
    "- If target period duration is set to 0:0:0, trying to get target sample will rise an exeption.\n",
    "\n",
    "- Need to reset before sampling as well:\n",
    "\n",
    "- Implementatdion detail: \n",
    "    - during real BTgym operation domain instance is held by `btgym_data_server`;\n",
    "\n",
    "    - Different Trial samples are sent to every environment instance, so corresponding `btgym_server` can sample           multiple episodes 'in place'.\n"
   ]
  },
  {
   "cell_type": "markdown",
   "metadata": {},
   "source": [
    "##### Sample episode from trial test interval:"
   ]
  },
  {
   "cell_type": "code",
   "execution_count": 6,
   "metadata": {},
   "outputs": [
    {
     "name": "stdout",
     "output_type": "stream",
     "text": [
      "[2018-07-07 06:09:28.047474] INFO: Trial_0: New sample id: <test_episode_w_0_num_0_at_2016-10-17 13:18:00>.\n"
     ]
    }
   ],
   "source": [
    "episode = trial.sample(\n",
    "    get_new=True,\n",
    "    sample_type=1,\n",
    "    b_alpha=1,\n",
    "    b_beta=1\n",
    ")\n"
   ]
  },
  {
   "cell_type": "markdown",
   "metadata": {},
   "source": [
    "- Episodes can be sampled from Trial `train` or `test` subsets, just like Trials from Source/Target domains. Here new Episode from test subset of the Trial is requested. Since it is test subset, alpha and beta params doesnt count - it is always uniform (just a common sense heuristic, one can always change it)     \n",
    "\n"
   ]
  },
  {
   "cell_type": "markdown",
   "metadata": {},
   "source": [
    "#### Convert to bt.feed object:"
   ]
  },
  {
   "cell_type": "code",
   "execution_count": 7,
   "metadata": {
    "collapsed": true
   },
   "outputs": [],
   "source": [
    "data_feed = episode.to_btfeed()"
   ]
  },
  {
   "cell_type": "markdown",
   "metadata": {},
   "source": [
    "##### Now print whole path:"
   ]
  },
  {
   "cell_type": "code",
   "execution_count": 14,
   "metadata": {},
   "outputs": [
    {
     "name": "stdout",
     "output_type": "stream",
     "text": [
      "Got instance of: <class 'btgym.datafeed.derivative.BTgymRandomDataDomain'>\n",
      "holding data: ['../examples/data/DAT_ASCII_EURUSD_M1_2016.csv']\n",
      "metadata: {'sample_num': 0, 'type': None}\n",
      "  |\n",
      "sample()\n",
      "  |\n",
      "got instance of: <class 'btgym.datafeed.derivative.BTgymDataTrial'>\n",
      "holding data: train_trial_w_0_num_1_at_2016-09-07\n",
      "metadata: {'sample_num': 1, 'type': 0, 'first_row': 254819, 'last_row': 298019, 'parent_sample_num': 0, 'parent_sample_type': None}\n",
      "  |\n",
      "sample()\n",
      "  |\n",
      "got instance of: <class 'btgym.datafeed.derivative.BTgymEpisode'>\n",
      "holding data: test_episode_w_0_num_0_at_2016-10-17 13:18:00\n",
      "metadata: {'sample_num': 0, 'type': 1, 'first_row': 41030, 'last_row': 42465, 'parent_sample_num': 1, 'parent_sample_type': 0}\n",
      "  |\n",
      "to_btfeed()\n",
      "  |\n",
      "got instance of: <class 'dict'>\n",
      "...holding default data line: {'base_data_line': <backtrader.feeds.pandafeed.PandasDirectData object at 0x10f5a4a58>}, wich value is ready to be fed to bt.Cerebro.\n"
     ]
    }
   ],
   "source": [
    "print('Got instance of: {}\\nholding data: {}\\nmetadata: {}'.\n",
    "      format(type(domain), domain.filename, domain.metadata))\n",
    "\n",
    "print('  |\\nsample()\\n  |')\n",
    "\n",
    "print('got instance of: {}\\nholding data: {}\\nmetadata: {}'.\n",
    "      format(type(trial), trial.filename, trial.metadata))\n",
    "\n",
    "print('  |\\nsample()\\n  |')\n",
    "\n",
    "print('got instance of: {}\\nholding data: {}\\nmetadata: {}'.\n",
    "      format(type(episode), episode.filename, episode.metadata))\n",
    "\n",
    "print('  |\\nto_btfeed()\\n  |')\n",
    "\n",
    "print('got instance of: {}\\n...holding default data line: {}, wi ready to be fed to bt.Cerebro.'.format(type(data_feed), data_feed))"
   ]
  },
  {
   "cell_type": "markdown",
   "metadata": {},
   "source": [
    "##### Note:\n",
    "- BTgymDataSet class used in most examples is simply special case where we set Trial=Episode by definition.\n",
    "- This nested data structure is intended mostly for upcoming implementation of meta-learning and guided-policy-search algorithms."
   ]
  },
  {
   "cell_type": "markdown",
   "metadata": {
    "collapsed": true
   },
   "source": [
    "### Skewed sampling"
   ]
  },
  {
   "cell_type": "code",
   "execution_count": 15,
   "metadata": {
    "collapsed": true
   },
   "outputs": [],
   "source": [
    "import matplotlib\n",
    "import matplotlib.pyplot as plt\n",
    "%matplotlib inline"
   ]
  },
  {
   "cell_type": "markdown",
   "metadata": {},
   "source": [
    "#### Beta-distribution quick recap:"
   ]
  },
  {
   "cell_type": "code",
   "execution_count": 100,
   "metadata": {},
   "outputs": [
    {
     "data": {
      "image/png": "[encoded data removed]",
      "text/plain": [
       "<matplotlib.figure.Figure at 0x1129f3f60>"
      ]
     },
     "metadata": {},
     "output_type": "display_data"
    }
   ],
   "source": [
    "alpha, beta, size = 2, 1, 500\n",
    "\n",
    "y = np.random.beta(alpha, beta, size)\n",
    "\n",
    "plt.figure(0)\n",
    "plt.suptitle(\n",
    "    'Beta-distribution with parameters: alpha={}, beta={}'.format(alpha, beta), fontsize=12\n",
    ")\n",
    "plt.grid(True)\n",
    "fig = plt.hist(y, histtype='stepfilled', bins=500)"
   ]
  },
  {
   "cell_type": "markdown",
   "metadata": {},
   "source": [
    "#### What it looks like for an episode: \n",
    "- here we plot a histogram of first record time-dates for set of sampled test and train episodes"
   ]
  },
  {
   "cell_type": "code",
   "execution_count": 107,
   "metadata": {},
   "outputs": [
    {
     "data": {
      "image/png": "[encoded data removed]",
      "text/plain": [
       "<matplotlib.figure.Figure at 0x11264b748>"
      ]
     },
     "metadata": {},
     "output_type": "display_data"
    }
   ],
   "source": [
    "# Suppose Trial is ready, if no - use cells above to get one\n",
    "\n",
    "trial.set_logger(level=13) # make it qiuet\n",
    "\n",
    "train_num_samples = 600\n",
    "test_num_samples = 300\n",
    "\n",
    "# Beta distribution paramters:\n",
    "alpha = 3 # give priority to recent samples \n",
    "beta = 1\n",
    "\n",
    "train_start = np.zeros(train_num_samples)\n",
    "test_start = np.zeros(test_num_samples)\n",
    "\n",
    "# Sample train episode and get time of first record as some realtive number:\n",
    "for i in range(train_num_samples):\n",
    "    train_start[i] = trial.sample(True, 0, alpha, beta).data[0:1].index[0].value / 1e18\n",
    "    \n",
    "# Sample test episode and get time of first record as number:\n",
    "for i in range(test_num_samples):\n",
    "    test_start[i] = trial.sample(True, 1, alpha, beta).data[0:1].index[0].value / 1e18\n",
    "    \n",
    "\n",
    "fig = plt.figure(1, figsize=(18,8))\n",
    "plt.suptitle('Begining times distribution for episodes within single trial', fontsize=16)\n",
    "plt.xlabel('Realtive trial time', fontsize=14)\n",
    "plt.ylabel('Number of episodes', fontsize=14)\n",
    "fig.text(0.25, 0.8, 'Train interval, alpha={}, beta={}'.format(alpha, beta), fontsize=14)\n",
    "fig.text(0.75, 0.8, 'Test interval, uniform', fontsize=14)\n",
    "fig.text(0.25, 0.5, 'Note holidays empty gaps', fontsize=12)\n",
    "\n",
    "plt.grid(True)\n",
    "fig = plt.hist(train_start, histtype='stepfilled', bins=train_num_samples)\n",
    "fig = plt.hist(test_start, histtype='stepfilled', bins=test_num_samples)\n"
   ]
  },
  {
   "cell_type": "markdown",
   "metadata": {},
   "source": [
    "### Running environment\n",
    "\n",
    "TODO"
   ]
  },
  {
   "cell_type": "code",
   "execution_count": null,
   "metadata": {
    "collapsed": true
   },
   "outputs": [],
   "source": []
  }
 ],
 "metadata": {
  "kernelspec": {
   "display_name": "Python 3",
   "language": "python",
   "name": "python3"
  },
  "language_info": {
   "codemirror_mode": {
    "name": "ipython",
    "version": 3
   },
   "file_extension": ".py",
   "mimetype": "text/x-python",
   "name": "python",
   "nbconvert_exporter": "python",
   "pygments_lexer": "ipython3",
   "version": "3.6.0"
  }
 },
 "nbformat": 4,
 "nbformat_minor": 2
}
