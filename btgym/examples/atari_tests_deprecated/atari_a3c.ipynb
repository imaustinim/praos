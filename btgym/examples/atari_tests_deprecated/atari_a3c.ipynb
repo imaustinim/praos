{
 "cells": [
  {
   "cell_type": "code",
   "execution_count": null,
   "metadata": {
    "collapsed": true
   },
   "outputs": [],
   "source": [
    "# Pre-configured A3C launcher\n",
    "# for Atari Gym Environment.\n",
    "#\n",
    "# Point tensorboard to User/tmp/test_gym_a3c\n",
    "#\n",
    "# Paper: https://arxiv.org/abs/1602.01783"
   ]
  },
  {
   "cell_type": "code",
   "execution_count": null,
   "metadata": {
    "collapsed": true
   },
   "outputs": [],
   "source": [
    "import warnings\n",
    "warnings.filterwarnings(\"ignore\") # suppress h5py deprecation warning\n",
    "\n",
    "import os\n",
    "from btgym.algorithms import AtariRescale42x42, Launcher, BaseAacPolicy, A3C"
   ]
  },
  {
   "cell_type": "code",
   "execution_count": null,
   "metadata": {},
   "outputs": [],
   "source": [
    "cluster_config = dict(\n",
    "    host='127.0.0.1',\n",
    "    port=12230,\n",
    "    num_workers=4,  # Set according CPU's available \n",
    "    num_ps=1,\n",
    "    num_envs=4,\n",
    "    log_dir=os.path.expanduser('~/tmp/test_gym_a3c'),\n",
    ")\n",
    "\n",
    "env_config = dict(\n",
    "    class_ref=AtariRescale42x42,  # Gym env. preprocessed to normalized grayscale 42x42 pix.\n",
    "    kwargs={'gym_id': 'Breakout-v0'}\n",
    ")\n",
    "\n",
    "policy_config = dict(\n",
    "    class_ref=BaseAacPolicy,\n",
    "    kwargs={}\n",
    ")\n",
    "\n",
    "trainer_config = dict(\n",
    "    class_ref=A3C,\n",
    "    kwargs=dict(\n",
    "        opt_learn_rate=[1e-4, 1e-4], # Random log-uniform \n",
    "        opt_end_learn_rate=1e-5,\n",
    "        opt_decay_steps=100*10**6,\n",
    "        model_gae_lambda=0.95,\n",
    "        model_beta=[0.02, 0.001], # Entropy reg, random log-uniform\n",
    "        rollout_length=20,\n",
    "        time_flat=False,\n",
    "        model_summary_freq=100,\n",
    "        episode_summary_freq=10,\n",
    "        env_render_freq=100,\n",
    "    )\n",
    ")\n",
    "\n",
    "launcher = Launcher(\n",
    "    cluster_config=cluster_config,\n",
    "    env_config=env_config,\n",
    "    trainer_config=trainer_config,\n",
    "    policy_config=policy_config,\n",
    "    test_mode=True,\n",
    "    max_env_steps=100*10**6,\n",
    "    root_random_seed=0,\n",
    "    purge_previous=1,  # ask to override previously saved model and logs\n",
    "    verbose=1\n",
    ")"
   ]
  },
  {
   "cell_type": "code",
   "execution_count": null,
   "metadata": {
    "scrolled": false
   },
   "outputs": [],
   "source": [
    "launcher.run()"
   ]
  }
 ],
 "metadata": {
  "kernelspec": {
   "display_name": "Python 3",
   "language": "python",
   "name": "python3"
  },
  "language_info": {
   "codemirror_mode": {
    "name": "ipython",
    "version": 3
   },
   "file_extension": ".py",
   "mimetype": "text/x-python",
   "name": "python",
   "nbconvert_exporter": "python",
   "pygments_lexer": "ipython3",
   "version": "3.6.0"
  }
 },
 "nbformat": 4,
 "nbformat_minor": 2
}
