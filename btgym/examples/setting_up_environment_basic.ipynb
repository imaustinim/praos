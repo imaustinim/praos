{
 "cells": [
  {
   "cell_type": "markdown",
   "metadata": {},
   "source": [
    "\n",
    "## Basic settings and parameters\n",
    "\n",
    "`EBTgymEnv()` class comes preconfigured for quick setting. Basicaly one need to provide at least data file keyword argument to set it up. \n",
    "\n",
    "BTgym relies on Backtrader framework for actual environment rendering. Environment customisation can be done either via setting basic set of parameters, inherited from Backtrader computational engine, or passing to env. complete engine  subclass. This example covers basic setting, while  later option gives complete control over backtasting logic and environment becames as flexible as Backtrader itself.\n",
    " \n",
    "Besides, there is another bunch of vital options related to reinforcement learning setting: observation and action space parameters and episode setting.\n",
    " \n",
    "One can eyeball internal environment parameters by looking at nested  `MyEnvironment.params` dictionary consisting of these subdictionaries:\n",
    "   - `params['dataset']`,  \n",
    "   - `params['engine']`,\n",
    "   - `params['strategy']`,\n",
    "   - `params['render']`.\n",
    " \n",
    "- Look at source files for exact parameters descriptions, since complete doc. reference is yet to come.\n",
    "##### Here all parameters are left to defaults values:"
   ]
  },
  {
   "cell_type": "code",
   "execution_count": null,
   "metadata": {
    "collapsed": true
   },
   "outputs": [],
   "source": [
    "from btgym import BTgymEnv\n",
    "\n",
    "# Handy function:\n",
    "def under_the_hood(env):\n",
    "    \"\"\"Shows environment internals.\"\"\"\n",
    "    for attr in ['dataset','strategy','engine','renderer','network_address']:\n",
    "        print ('\\nEnv.{}: {}'.format(attr, getattr(env, attr)))\n",
    "\n",
    "    for params_name, params_dict in env.params.items():\n",
    "        print('\\nParameters [{}]: '.format(params_name))\n",
    "        for key, value in params_dict.items():\n",
    "            print('{} : {}'.format(key,value))"
   ]
  },
  {
   "cell_type": "code",
   "execution_count": null,
   "metadata": {},
   "outputs": [],
   "source": [
    "# Simpliest trading environment,\n",
    "# using year-long dataset of one minute bars for EUR/USD currency pair: \n",
    "\n",
    " \n",
    "MyEnvironment = BTgymEnv(filename='./data/DAT_ASCII_EURUSD_M1_2016.csv',)\n",
    "\n",
    "# Print environment configuration:\n",
    "under_the_hood(MyEnvironment)\n",
    "\n",
    "# Clean up:\n",
    "MyEnvironment.close()"
   ]
  },
  {
   "cell_type": "markdown",
   "metadata": {},
   "source": [
    "*****\n",
    "### More control:\n",
    "##### One can tweak environment setup by passing set of kwargs:"
   ]
  },
  {
   "cell_type": "code",
   "execution_count": null,
   "metadata": {
    "scrolled": false
   },
   "outputs": [],
   "source": [
    "from gym import spaces\n",
    "\n",
    "MyEnvironment = BTgymEnv(filename='../examples/data/DAT_ASCII_EURUSD_M1_2016.csv',\n",
    "                         \n",
    "                     # Dataset and single random episode related parameters:\n",
    "                         \n",
    "                         # We start trading on mondays, thuesdays and wednesdays:\n",
    "                         start_weekdays=[0, 1, 2],\n",
    "                         # Want total episode duration to be no more than 1 day 23h 55min:\n",
    "                         episode_duration={'days': 1, 'hours': 23, 'minutes': 55},\n",
    "                         # Want to start every episode at the begiining of the day:\n",
    "                         start_00=True,\n",
    "                         \n",
    "                     # Broker and trade realted:\n",
    "                         \n",
    "                         # Set initial capital:\n",
    "                         start_cash=100,\n",
    "                         # Set broker commission as 0.2% of operation value:\n",
    "                         broker_commission=0.002,\n",
    "                         # We use fixed stake of size 10:\n",
    "                         fixed_stake=10,\n",
    "                         # We want stop episode if 30% of initial capital is lost:\n",
    "                         drawdown_call=30,\n",
    "                         \n",
    "                     # RL environment related parameters:\n",
    "                         \n",
    "                         # Set observation shape. By convention, first dimension \n",
    "                         # is time embedding dimensionality;\n",
    "                         # that's basically means we get sequence of 30 last  \n",
    "                         # [o,h,l,c] candels as our one-step environment observation:\n",
    "                         \n",
    "                         state_shape=dict(raw=spaces.Box(low=0,high=1,shape=(30,4))),\n",
    "                                          \n",
    "                         # BTgym uses multi-modal observation space which is basically dictionary\n",
    "                         # consisting of simple gym spaces (Box, discrete, etc.)\n",
    "                         # For the built-in `raw_state` setting high and low is dummy, because\n",
    "                         # environment will infer values from entire dataset statistic.\n",
    "                         \n",
    "                     # Other parameters:\n",
    "                         \n",
    "                         # Network port to use; note that using multiply environments at once reqires expliciltly\n",
    "                         # setting different ports to avoid meesing up. If your jupyter kernel suddenly dies\n",
    "                         # when running new environment - that's may be because of port conflict,\n",
    "                         # or 'previous' environment instance (client-side) is still running.\n",
    "                         # Don't panic, just clear up and restart kernel,\n",
    "                         # or use env.close() to shut down all the services.\n",
    "                         port=5555,\n",
    "                         # Data-server port to use, same as above apply:\n",
    "                         #data_port=4600,\n",
    "                         # Be chatty: settting this to 1 makes environment report what's going on;\n",
    "                         # 2 is for debugging, dumps out a lot of data:\n",
    "                         verbose=1,)\n",
    "\n",
    "# Eyeball configuration:\n",
    "under_the_hood(MyEnvironment)\n",
    "\n",
    "# Clean up:\n",
    "MyEnvironment.close()"
   ]
  },
  {
   "cell_type": "markdown",
   "metadata": {},
   "source": [
    "*****\n",
    "### Registering environment:\n",
    "\n",
    "OpenaAI way of making environment is to register it with cpecific set of parameters under some unique name and instantiate it via calling  `make()` method. This helps for standartization and correct evaluation of results uploaded to Gym board. \n",
    " \n",
    "##### That's how you do it (same parameters as above):"
   ]
  },
  {
   "cell_type": "code",
   "execution_count": null,
   "metadata": {},
   "outputs": [],
   "source": [
    "import gym\n",
    "from gym import spaces\n",
    "\n",
    "# Set single dictionary of parameters:\n",
    "\n",
    "env_params = dict(filename='../examples/data/DAT_ASCII_EURUSD_M1_2016.csv',\n",
    "                  start_weekdays=[0, 1, 2],\n",
    "                  episode_duration={'days': 1, 'hours': 23, 'minutes': 55},\n",
    "                  start_00=True,\n",
    "                  start_cash=100,\n",
    "                  broker_commission=0.002,\n",
    "                  fixed_stake=10,\n",
    "                  drawdown_call=30,\n",
    "                  state_shape=dict(raw=spaces.Box(low=0,high=1,shape=(30,4))),\n",
    "                  port=5002,\n",
    "                  data_port=4800,\n",
    "                  verbose=1,)\n",
    "\n",
    "# Register with unique name (watch out for OpenAI namesetting conventions):\n",
    "\n",
    "gym.envs.register(id='backtrader-v46',\n",
    "                  entry_point='btgym:BTgymEnv',\n",
    "                  kwargs=env_params)\n",
    "\n",
    "# Make environment:\n",
    "                  \n",
    "MyEnvironment = gym.make('backtrader-v46')\n",
    "\n",
    "# Clean up\n",
    "MyEnvironment.close()\n"
   ]
  },
  {
   "cell_type": "markdown",
   "metadata": {},
   "source": [
    "*****\n",
    "### Running agent:\n",
    "\n",
    "Just for giving sense of env. operation flow, our agent will be just mindless random picker; it performs no actual training. Run it for several episodes to see how fast all the money get lost.\n",
    "- we'll plot states observationas every 500th and final step, episode summary and rendering;\n",
    "- set verbosity=0 to turn of excesive messaging."
   ]
  },
  {
   "cell_type": "code",
   "execution_count": null,
   "metadata": {
    "collapsed": true
   },
   "outputs": [],
   "source": [
    "import itertools\n",
    "import random\n",
    "\n",
    "# Will need those\n",
    "# to display rendered images inline:\n",
    "import IPython.display as Display\n",
    "import PIL.Image as Image\n",
    "\n",
    "\n",
    "# Some utility functions:\n",
    "\n",
    "def to_string(dictionary):\n",
    "    \"\"\"Convert dictionary to block of text.\"\"\"\n",
    "    text = ''\n",
    "    for k, v in dictionary.items():\n",
    "        if type(v) in [float]:\n",
    "            v = '{:.4f}'.format(v)\n",
    "        text += '{}: {}\\n'.format(k, v)\n",
    "    return(text)\n",
    "\n",
    "def show_rendered_image(rgb_array):\n",
    "    \"\"\"\n",
    "    Convert numpy array to RGB image using PILLOW and\n",
    "    show it inline using IPykernel.\n",
    "    This method doesn't requires matplotlib to be loaded.\n",
    "    \"\"\"\n",
    "    Display.display(Image.fromarray(rgb_array))\n",
    "\n",
    "# Number  episodes to run:\n",
    "num_episodes = 2\n",
    "\n",
    "# Render state every:\n",
    "state_render=500"
   ]
  },
  {
   "cell_type": "markdown",
   "metadata": {},
   "source": [
    " Pay attention to log output: when called for first time, `env.reset()` will start the server and calls for episode;  server than samples episode data, checks it for consistency, starts backtesting and returns initial state observation."
   ]
  },
  {
   "cell_type": "code",
   "execution_count": null,
   "metadata": {
    "scrolled": false
   },
   "outputs": [],
   "source": [
    "# Run it:\n",
    "for episode in range(num_episodes):\n",
    "    \n",
    "    # Calling reset() before every episode.\n",
    "\n",
    "    init_state = MyEnvironment.reset()\n",
    "    \n",
    "    print('\\nEPISODE [{}]:'.format(episode + 1))\n",
    "    \n",
    "    # Render and show first step:\n",
    "    show_rendered_image(MyEnvironment.render('human'))\n",
    "    \n",
    "    # Repeat until episode end:\n",
    "    for _ in itertools.count(): \n",
    "        \n",
    "        #Choose random action:\n",
    "        rnd_action = MyEnvironment.action_space.sample()\n",
    "        \n",
    "        # Make a step in the environment:\n",
    "        obs, reward, done, info = MyEnvironment.step(rnd_action)\n",
    "        \n",
    "        # Show state every 500th step\n",
    "        # and when episode is finished:\n",
    "        if info[-1]['step'] % state_render == 0 or done:\n",
    "            show_rendered_image(MyEnvironment.render('human'))\n",
    "                \n",
    "        if done: break\n",
    "            \n",
    "    # Print episode statistic (quite modest for now since we didn't added any observers etc.)\n",
    "    print('SUMMARY:\\n{}\\nINFO [last observation]:\\n{}'.\n",
    "        format(to_string(MyEnvironment.get_stat()), to_string(info[-1])))\n",
    "    # Render and show episode statisic:\n",
    "    print('BACKTRADER SUMMARY PLOT:')\n",
    "    show_rendered_image(MyEnvironment.render('episode'))\n",
    "\n",
    "# Clean up:\n",
    "MyEnvironment.close()"
   ]
  },
  {
   "cell_type": "code",
   "execution_count": null,
   "metadata": {},
   "outputs": [],
   "source": [
    "MyEnvironment.close()"
   ]
  },
  {
   "cell_type": "code",
   "execution_count": null,
   "metadata": {
    "collapsed": true
   },
   "outputs": [],
   "source": []
  }
 ],
 "metadata": {
  "kernelspec": {
   "display_name": "Python 3",
   "language": "python",
   "name": "python3"
  },
  "language_info": {
   "codemirror_mode": {
    "name": "ipython",
    "version": 3
   },
   "file_extension": ".py",
   "mimetype": "text/x-python",
   "name": "python",
   "nbconvert_exporter": "python",
   "pygments_lexer": "ipython3",
   "version": "3.6.0"
  }
 },
 "nbformat": 4,
 "nbformat_minor": 2
}
