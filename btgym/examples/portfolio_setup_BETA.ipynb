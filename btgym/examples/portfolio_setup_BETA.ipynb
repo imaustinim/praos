{
 "cells": [
  {
   "cell_type": "markdown",
   "metadata": {},
   "source": [
    "### BETA Continiuous actions multi-data, multi-asset setup intro."
   ]
  },
  {
   "cell_type": "code",
   "execution_count": null,
   "metadata": {
    "collapsed": true
   },
   "outputs": [],
   "source": [
    "\n",
    "from logbook import INFO, WARNING, DEBUG\n",
    "\n",
    "import warnings\n",
    "warnings.filterwarnings(\"ignore\") # suppress h5py deprecation warning\n",
    "\n",
    "import numpy as np\n",
    "import os\n",
    "import backtrader as bt\n",
    "\n",
    "from btgym.research.casual_conv.strategy import CasualConvStrategyMulti\n",
    "from btgym.research.casual_conv.networks import conv_1d_casual_attention_encoder\n",
    "\n",
    "from btgym.algorithms.policy import StackedLstmPolicy\n",
    "from btgym.algorithms.launcher.base import Launcher\n",
    "from btgym.algorithms.aac import A3C\n",
    "\n",
    "from btgym import PortfolioEnv\n",
    "from btgym.datafeed.casual import BTgymCasualDataDomain\n",
    "from btgym.datafeed.multi import BTgymMultiData\n"
   ]
  },
  {
   "cell_type": "markdown",
   "metadata": {},
   "source": [
    "#### Problem formulation\n",
    "This setup closely relates to continuous portfolio optimisation problem definition;\n",
    "it differs from discrete actions setup in:\n",
    "    1. base broker actions are real numbers: `a[i] in [0,1], 0<=i<=K, SUM{a[i]} = 1`  for `K` risky assets added;\n",
    "       each action is a market target order to adjust portfolio to get share `a[i]*100%` for `i`-th  asset;\n",
    "    2. entire single-step broker action is dictionary of form:\n",
    "       `{cash_name: a[0], asset_name_1: a[1], ..., asset_name_K: a[K]}`;\n",
    "    3. short selling is not permitted;\n",
    "\n",
    "\n",
    "#### Model\n",
    "- For RL it implies having continuous action space as `K+1` dim vector.\n",
    "\n"
   ]
  },
  {
   "cell_type": "markdown",
   "metadata": {},
   "source": [
    "#### Environment setup\n",
    "    0. Problem definition.\n",
    "    Again consider setup with one riskless asset acting as broker account cash and K risky assets.\n",
    "    For every risky asset there exists track of historic price records referred as `data-line`.\n",
    "    Apart from assets data lines there possibly exists number of exogenous data lines.\n",
    "    It is supposed for this setup that:\n",
    "    i. there is no interest rate for base (riskless) asset;\n",
    "    ii. short selling is not permitted;\n",
    "    iii. transaction costs are modelled via broker commission;\n",
    "    iv. 'market liquidity' and 'capital impact' assumptions are met;\n",
    "    v. time indexes match for all data lines provided;\n",
    "\n",
    "    1. Assets and datalines.\n",
    "    This environment expects Dataset to be instance of `btgym.datafeed.multi.BTgymMultiData`, which sets\n",
    "    number,  specifications and sampling synchronisation for historic data for all assets and data lines.\n",
    "\n",
    "    Namely, one should define data_config dictionary of `data lines` and list of `assets`.\n",
    "    `data_config` specifies all data sources used by strategy, \n",
    "    while `assets` defines subset of `data lines` which is supposed to hold historic data \n",
    "    for risky portfolio assets.\n",
    "\n",
    "    Internally every episodic asset data is converted to single bt.feed and added to environment strategy\n",
    "    as separate named data_line (see backtrader docs for extensive explanation of data_lines concept).\n",
    "    Every non-asset data line as also added as bt.feed with difference that it is not 'tradable' i.e. \n",
    "    it is impossible to issue trade orders on such line.\n",
    "    Strategy is expected to properly handle all received data-lines.\n",
    "\n",
    "        Example::\n",
    "\n",
    "            1. Four data streams added via Dataset.data_config,\n",
    "               portfolio consists of four assets, added via strategy_params, cash is EUR:\n",
    "\n",
    "                data_config = {\n",
    "                    'usd': {'filename': '.../DAT_ASCII_EURUSD_M1_2017.csv'},\n",
    "                    'gbp': {'filename': '.../DAT_ASCII_EURGBP_M1_2017.csv'},\n",
    "                    'jpy': {'filename': '.../DAT_ASCII_EURJPY_M1_2017.csv'},\n",
    "                    'chf': {'filename': '.../DAT_ASCII_EURCHF_M1_2017.csv'},\n",
    "                }\n",
    "                cash_name = 'eur'\n",
    "                assets_names = ['usd', 'gbp', 'jpy', 'chf']\n",
    "\n",
    "            2. Three streams added, only two of them form portfolio; DXY stream is `decision-making` only:\n",
    "                data_config = {\n",
    "                    'usd': {'filename': '.../DAT_ASCII_EURUSD_M1_2017.csv'},\n",
    "                    'gbp': {'filename': '.../DAT_ASCII_EURGBP_M1_2017.csv'},\n",
    "                    '​DXY': {'filename': '.../DAT_ASCII_DXY_M1_2017.csv'},\n",
    "                }\n",
    "                cash_name = 'eur'\n",
    "                assets_names = ['usd', 'gbp']\n",
    "\n",
    "\n",
    "    2. btgym.spaces.ActionDictSpace and order execution.\n",
    "    ActionDictSpace is an extension of OpenAI Gym DictSpace providing domain-specific functionality.\n",
    "    Strategy expects to receive separate action for every K+1 asset in form of dictionary:\n",
    "    `{cash_name: a[0], asset_name_1: a[1], ..., asset_name_K: a[K]}` for K risky assets added,\n",
    "    where base actions are real numbers: `a[i] in [0,1], 0<=i<=K, SUM{a[i]} = 1`. Whole action should be\n",
    "    interpreted as order to adjust portfolio to have share `a[i] * 100% for i-th  asset`.\n",
    "\n",
    "    Therefore, base actions are gym.spaces.Box and for K assets environment action space will be a shallow\n",
    "    DictSpace of K+1 continuous spaces: `{cash_name: gym.spaces.Box(low=0, high=1),\n",
    "    asset_name_1: gym.spaces.Box(low=0, high=1), ..., asset_name_K: gym.spaces.Box(low=0, high=1)}`\n",
    "\n",
    "    3. TODO: refine order execution control, \n",
    "    see: https://community.backtrader.com/topic/152/multi-asset-ranking-and-rebalancing/2?page=1"
   ]
  },
  {
   "cell_type": "markdown",
   "metadata": {},
   "source": [
    "#### Reference:\n",
    "- **MultiDataFeed:** https://kismuz.github.io/btgym/btgym.datafeed.html#btgym.datafeed.multi.BTgymMultiData\n",
    "- **ActionSpace:** https://kismuz.github.io/btgym/btgym.html#btgym.spaces.ActionDictSpace\n",
    "- **MultiDiscreteEnv:** https://kismuz.github.io/btgym/btgym.envs.html#btgym.envs.multidiscrete.MultiDiscreteEnv\n",
    "- **PortfolioEnv:** https://kismuz.github.io/btgym/btgym.envs.html#btgym.envs.portfolio.PortfolioEnv"
   ]
  },
  {
   "cell_type": "code",
   "execution_count": null,
   "metadata": {
    "collapsed": true
   },
   "outputs": [],
   "source": [
    "engine = bt.Cerebro()\n",
    "\n",
    "num_features = 16\n",
    "\n",
    "engine.addstrategy(\n",
    "    CasualConvStrategyMulti,\n",
    "    cash_name='EUR',\n",
    "    start_cash=2000,\n",
    "    commission=0.0001, \n",
    "    leverage=10.0,\n",
    "    asset_names={'USD', 'CHF', 'GBP', 'JPY'},\n",
    "    drawdown_call=10, # max % to loose, in percent of initial cash\n",
    "    target_call=10,  # max % to win, same\n",
    "    skip_frame=10,\n",
    "    gamma=0.99,\n",
    "    state_ext_scale = {\n",
    "        'USD': np.linspace(1, 2, num=num_features),\n",
    "        'GBP': np.linspace(1, 2, num=num_features),\n",
    "        'CHF': np.linspace(1, 2, num=num_features),\n",
    "        'JPY': np.linspace(5e-3, 1e-2, num=num_features),\n",
    "    },\n",
    "    cwt_signal_scale=4e3,\n",
    "    cwt_lower_bound=4.0,   # CWT scales  TODO: 8.? (was : 3.)\n",
    "    cwt_upper_bound=90.0,\n",
    "    reward_scale=7,\n",
    ")\n",
    "\n",
    "data_config = {\n",
    "    'USD': {'filename': './data/DAT_ASCII_EURUSD_M1_2017.csv'},\n",
    "    'GBP': {'filename': './data/DAT_ASCII_EURGBP_M1_2017.csv'},\n",
    "    'JPY': {'filename': './data/DAT_ASCII_EURJPY_M1_2017.csv'},\n",
    "    'CHF': {'filename': './data/DAT_ASCII_EURCHF_M1_2017.csv'},\n",
    "}\n",
    "\n",
    "dataset = BTgymMultiData(\n",
    "    data_class_ref=BTgymCasualDataDomain,\n",
    "    data_config=data_config,\n",
    "    trial_params=dict(\n",
    "        start_weekdays={0, 1, 2, 3, 4, 5, 6},\n",
    "        sample_duration={'days': 30, 'hours': 0, 'minutes': 0},\n",
    "        start_00=False,\n",
    "        time_gap={'days': 15, 'hours': 0},\n",
    "        test_period={'days': 7, 'hours': 0, 'minutes': 0},\n",
    "        expanding=True,\n",
    "    ),\n",
    "    episode_params=dict(\n",
    "        start_weekdays={0, 1, 2, 3, 4, 5, 6},\n",
    "        sample_duration={'days': 2, 'hours': 23, 'minutes': 55},\n",
    "        start_00=False,\n",
    "        time_gap={'days': 2, 'hours': 15},\n",
    "    ),\n",
    "    frozen_time_split={'year': 2017, 'month': 3, 'day': 1},\n",
    ")\n",
    "#########################\n",
    "\n",
    "env_config = dict(\n",
    "    class_ref=PortfolioEnv, \n",
    "    kwargs=dict(\n",
    "        dataset=dataset,\n",
    "        engine=engine,\n",
    "        render_modes=['episode'],\n",
    "        render_state_as_image=True,\n",
    "        render_size_episode=(12,16),\n",
    "        render_size_human=(9, 4),\n",
    "        render_size_state=(11, 3),\n",
    "        render_dpi=75,\n",
    "        port=5000,\n",
    "        data_port=4999,\n",
    "        connect_timeout=90,\n",
    "        verbose=0,\n",
    "    )\n",
    ")\n",
    "\n",
    "cluster_config = dict(\n",
    "    host='127.0.0.1',\n",
    "    port=12230,\n",
    "    num_workers=4,  # Set according CPU's available or so\n",
    "    num_ps=1,\n",
    "    num_envs=1,\n",
    "    log_dir=os.path.expanduser('~/tmp/multi_continiuous'),\n",
    ")\n",
    "policy_config = dict(\n",
    "    class_ref=StackedLstmPolicy,\n",
    "    kwargs={\n",
    "        'action_dp_alpha': 200,  # Dirichlet process sampling inverse variance\n",
    "        'lstm_layers': (256, 256),\n",
    "        'dropout_keep_prob': 1.0, \n",
    "        'encode_internal_state': False,\n",
    "        'conv_1d_num_filters': 64,\n",
    "        'share_encoder_params': False,\n",
    "        'state_encoder_class_ref': conv_1d_casual_attention_encoder,\n",
    "    }\n",
    ")\n",
    "\n",
    "trainer_config = dict(\n",
    "    class_ref=A3C,\n",
    "    kwargs=dict(\n",
    "        opt_learn_rate=1e-4,\n",
    "        opt_end_learn_rate=1e-5,\n",
    "        opt_decay_steps=50*10**6,\n",
    "        model_gamma=0.99,\n",
    "        model_gae_lambda=1.0,\n",
    "        model_beta=0.001, # entropy reg\n",
    "        rollout_length=20,\n",
    "        time_flat=True, \n",
    "        model_summary_freq=10,\n",
    "        episode_summary_freq=1,\n",
    "        env_render_freq=5,\n",
    "    )\n",
    ")"
   ]
  },
  {
   "cell_type": "markdown",
   "metadata": {},
   "source": [
    "##### First, one can manually play with environment:"
   ]
  },
  {
   "cell_type": "code",
   "execution_count": null,
   "metadata": {
    "collapsed": true
   },
   "outputs": [],
   "source": [
    "env = PortfolioEnv(**env_config['kwargs'])"
   ]
  },
  {
   "cell_type": "code",
   "execution_count": null,
   "metadata": {
    "collapsed": true
   },
   "outputs": [],
   "source": [
    "o = env.reset()"
   ]
  },
  {
   "cell_type": "code",
   "execution_count": null,
   "metadata": {
    "collapsed": true
   },
   "outputs": [],
   "source": [
    "# Should manually normalize actions as we see it as sum of assets shares (or prob. distribution),\n",
    "# but do not pose this constraint to action_space:\n",
    "\n",
    "a = env.action_space.sample()\n",
    "norm = np.asarray(list(a.values())).sum()\n",
    "a_norm = {k: v/norm for k, v in a.items()}\n",
    "\n",
    "for k, v in a_norm.items(): print('{}: {:1.2f}'.format(k, v[0]))"
   ]
  },
  {
   "cell_type": "code",
   "execution_count": null,
   "metadata": {
    "collapsed": true
   },
   "outputs": [],
   "source": [
    "# NOTE: to see actual order execution feedback via `info` part one need to set strategy param: skip_frame=2,\n",
    "\n",
    "o, r, d, i = env.step(a_norm)\n",
    "for k, v in i[0].items(): print('{}: {}'.format(k, v))"
   ]
  },
  {
   "cell_type": "code",
   "execution_count": null,
   "metadata": {
    "collapsed": true
   },
   "outputs": [],
   "source": [
    "env.close()"
   ]
  },
  {
   "cell_type": "markdown",
   "metadata": {},
   "source": [
    "##### Run training (do not expect it to converge though):"
   ]
  },
  {
   "cell_type": "code",
   "execution_count": null,
   "metadata": {
    "scrolled": false
   },
   "outputs": [],
   "source": [
    "launcher = Launcher(\n",
    "    cluster_config=cluster_config,\n",
    "    env_config=env_config,\n",
    "    trainer_config=trainer_config,\n",
    "    policy_config=policy_config,\n",
    "    test_mode=False,\n",
    "    max_env_steps=100*10**6,\n",
    "    root_random_seed=0,\n",
    "    purge_previous=1,  # ask to override previously saved model and logs\n",
    "    verbose=0\n",
    ")\n",
    "\n",
    "# Train it:\n",
    "launcher.run()"
   ]
  },
  {
   "cell_type": "code",
   "execution_count": null,
   "metadata": {
    "collapsed": true
   },
   "outputs": [],
   "source": []
  }
 ],
 "metadata": {
  "kernelspec": {
   "display_name": "Python 3",
   "language": "python",
   "name": "python3"
  },
  "language_info": {
   "codemirror_mode": {
    "name": "ipython",
    "version": 3
   },
   "file_extension": ".py",
   "mimetype": "text/x-python",
   "name": "python",
   "nbconvert_exporter": "python",
   "pygments_lexer": "ipython3",
   "version": "3.6.0"
  }
 },
 "nbformat": 4,
 "nbformat_minor": 2
}
